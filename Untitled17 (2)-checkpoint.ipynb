{
 "cells": [
  {
   "cell_type": "code",
   "execution_count": 9,
   "id": "e2949cde",
   "metadata": {},
   "outputs": [
    {
     "name": "stdout",
     "output_type": "stream",
     "text": [
      "Enter your name\n",
      "Entered your name \n"
     ]
    }
   ],
   "source": [
    "name= input('Enter your name')\n",
    "print('Entered your name',name)"
   ]
  },
  {
   "cell_type": "code",
   "execution_count": 2,
   "id": "13f4de6b",
   "metadata": {},
   "outputs": [
    {
     "name": "stdout",
     "output_type": "stream",
     "text": [
      "Enter your maths score68\n",
      "Enter your science score78\n",
      "Your total marks is: 146\n"
     ]
    }
   ],
   "source": [
    "maths =int(input('Enter your maths score'))\n",
    "science=int(input('Enter your science score'))\n",
    "total_marks= maths+science\n",
    "print('Your total marks is:',total_marks)"
   ]
  },
  {
   "cell_type": "code",
   "execution_count": 7,
   "id": "45410507",
   "metadata": {},
   "outputs": [
    {
     "name": "stdout",
     "output_type": "stream",
     "text": [
      "Enter your name:Ravindra\n",
      "You entered: Ravindra\n"
     ]
    }
   ],
   "source": [
    "name=input('Enter your name:')\n",
    "if name.isalpha():\n",
    "    print('You entered:', name)\n",
    "else:\n",
    "    print('Please enter alpha characters')"
   ]
  },
  {
   "cell_type": "code",
   "execution_count": 29,
   "id": "4fbab998",
   "metadata": {},
   "outputs": [],
   "source": [
    "def phone_price(phone_make,phone_age,phone_model_GB):\n",
    "    if phone_make=='iphone11':\n",
    "        if 0 <phone_age <=6:\n",
    "            if phone_model_GB==64:\n",
    "                print('Rs 39,500 - Rs 41,600')\n",
    "                \n",
    "            elif phone_model_GB==128:\n",
    "                print('Rs 45,500 - Rs 47,600')\n",
    "         \n",
    "        if 6 <phone_age<=12:\n",
    "            if phone_model_GB==64:\n",
    "                print('Rs 32,500 - Rs 35,600')\n",
    "                \n",
    "            elif phone_model_GB==128:\n",
    "                print('Rs 39,500 - Rs 44,600')\n",
    "                \n",
    "    if phone_make=='Samsung B110':\n",
    "        if 0 <phone_age <=6:\n",
    "            print('Rs 850 - Rs 975')\n",
    "        elif 6 <phone_age <=12:\n",
    "            print('Rs715-Rs 750')\n",
    "     \n",
    "    if phone_make=='Xiaomi 25':\n",
    "        if 0 <phone_age <=6:\n",
    "            if phone_model_GB==64:\n",
    "                print('Rs 15,500 - Rs 16,600')\n",
    "                \n",
    "            elif phone_model_GB==128:\n",
    "                print('Rs 17,500 - Rs 19,600')\n",
    "         \n",
    "        if 6 <phone_age<=12:\n",
    "            if phone_model_GB==64:\n",
    "                print('Rs 9,500 - Rs 10,600')\n",
    "                \n",
    "            elif phone_model_GB==128:\n",
    "                print('Rs 11,500 - Rs 12,600') \n",
    "    else:\n",
    "        print('No stock right now, please pay visit after few days')\n",
    "         \n"
   ]
  },
  {
   "cell_type": "code",
   "execution_count": 19,
   "id": "42883504",
   "metadata": {},
   "outputs": [
    {
     "name": "stdout",
     "output_type": "stream",
     "text": [
      "No stock right now, please pay visit after few days\n"
     ]
    }
   ],
   "source": [
    "phone_price('Oppo',5,128)"
   ]
  },
  {
   "cell_type": "code",
   "execution_count": 30,
   "id": "c7d5a0f6",
   "metadata": {},
   "outputs": [
    {
     "name": "stdout",
     "output_type": "stream",
     "text": [
      "Enter phone make-iphone11\n",
      "Enter how old is phone-8\n",
      "Enter GB in numbers-128\n",
      "Rs 39,500 - Rs 44,600\n",
      "No stock right now, please pay visit after few days\n"
     ]
    }
   ],
   "source": [
    "phone = input('Enter phone make-')\n",
    "months_old = int(input('Enter how old is phone-'))\n",
    "capacity =int(input('Enter GB in numbers-'))\n",
    "\n",
    "phone_price (phone, months_old,capacity)"
   ]
  },
  {
   "cell_type": "code",
   "execution_count": 32,
   "id": "6bc5c102",
   "metadata": {},
   "outputs": [
    {
     "name": "stdout",
     "output_type": "stream",
     "text": [
      "Total_marks=  123\n"
     ]
    }
   ],
   "source": [
    "# try and exception handling\n",
    "marks_1= 88\n",
    "subject= 'Data science'\n",
    "marks_2= 35\n",
    "\n",
    "try:\n",
    "    total_marks= marks_1 + marks_2\n",
    "    \n",
    "\n",
    "except:\n",
    "    print('Your adding integer to string.Make sure both data types are matching')\n",
    "    \n",
    "else:\n",
    "    print('Total_marks= ',total_marks)"
   ]
  },
  {
   "cell_type": "code",
   "execution_count": 3,
   "id": "e8f8db70",
   "metadata": {},
   "outputs": [
    {
     "name": "stdout",
     "output_type": "stream",
     "text": [
      "Your car numberMH470244\n",
      "NameRavindra\n",
      "Mobile number7823769\n"
     ]
    }
   ],
   "source": [
    "    car_number= input('Your car number')\n",
    "    name= input('Name')\n",
    "    mobile= input('Mobile number')\n",
    "    \n",
    "    def mobile_num():\n",
    "        while True:\n",
    "            try:\n",
    "                val=int(input('Please enter mobile numbe'))\n",
    "            except:\n",
    "                print('Look like you did not enter an integer')\n",
    "                \n",
    "                continue\n",
    "                \n",
    "            else:\n",
    "                if len(str(val))!=10:\n",
    "                    print('Mobile number must be 10 digits')\n",
    "                    continue\n",
    "                    print('Thank you')\n",
    "                    break"
   ]
  },
  {
   "cell_type": "code",
   "execution_count": 7,
   "id": "c0727d61",
   "metadata": {},
   "outputs": [
    {
     "name": "stdout",
     "output_type": "stream",
     "text": [
      "Your car numberMH47 W0244\n",
      "NameRavindra\n",
      "Mobile number9892347010\n",
      "Thanks for all details\n"
     ]
    }
   ],
   "source": [
    "try:\n",
    "    car_number=input(\"Your car number\")\n",
    "    name= input('Name')\n",
    "    mobile=input('Mobile number')\n",
    "    \n",
    "    if car_number=='':\n",
    "        raise Exception()\n",
    "    elif name=='':\n",
    "        raise Exception()\n",
    "    elif mobile=='':\n",
    "        raise Exception()\n",
    "    else:\n",
    "        pass\n",
    "except:\n",
    "    if car_number=='':\n",
    "        print('\\n The registration number field is required. \\n')\n",
    "    if name=='':\n",
    "        print('The customer name field is required. \\n')\n",
    "    if mobile=='':\n",
    "        print('The mobile number field is required. \\n')\n",
    "else:\n",
    "    print('Thanks for all details')"
   ]
  },
  {
   "cell_type": "code",
   "execution_count": 6,
   "id": "33297f14",
   "metadata": {},
   "outputs": [],
   "source": [
    "def mobile_num():\n",
    "    try:\n",
    "        val=int(input('Please enter your mobile number'))\n",
    "    except:\n",
    "        print('Looks like you did not enter an integer')\n",
    "        \n",
    "        print(val)"
   ]
  },
  {
   "cell_type": "code",
   "execution_count": 8,
   "id": "d038c6f2",
   "metadata": {},
   "outputs": [
    {
     "name": "stdout",
     "output_type": "stream",
     "text": [
      "Please enter your mobile number9892347010\n"
     ]
    }
   ],
   "source": [
    "mobile_num()"
   ]
  },
  {
   "cell_type": "code",
   "execution_count": 3,
   "id": "0f30385a",
   "metadata": {},
   "outputs": [],
   "source": [
    "def mobile_num():\n",
    "    while True:\n",
    "        try:\n",
    "            val= int(input('Please enter your mobile number: '))\n",
    "        except:\n",
    "            print('Looks like you have not entered an ineger')\n",
    "        else:\n",
    "            if len(str(val))!= 10:\n",
    "                print('mobile number must be 10 digits')\n",
    "                continue\n",
    "                \n",
    "            print('Thank you')\n",
    "            break"
   ]
  },
  {
   "cell_type": "code",
   "execution_count": 5,
   "id": "6e4fb1c8",
   "metadata": {},
   "outputs": [
    {
     "name": "stdout",
     "output_type": "stream",
     "text": [
      "Please enter your mobile number: 989234701\n",
      "mobile number must be 10 digits\n",
      "Please enter your mobile number: ravindra\n",
      "Looks like you have not entered an ineger\n",
      "Please enter your mobile number: 9892347010\n",
      "Thank you\n"
     ]
    }
   ],
   "source": [
    "mobile_num()"
   ]
  },
  {
   "cell_type": "code",
   "execution_count": 3,
   "id": "2c2e8fc0",
   "metadata": {},
   "outputs": [],
   "source": [
    "class Gmail:\n",
    "    def __init__(self,name,last_name,city,user_id,password):\n",
    "        \n",
    "        self.name= name\n",
    "        self.last_name= last_name\n",
    "        self.city= city\n",
    "        self.user_id= user_id\n",
    "        self.password= password\n",
    "        \n",
    "    def login(self):\n",
    "        while True:\n",
    "            signin=input('Email- ')\n",
    "            password=input('password- ')\n",
    "            if signin== self.user_id and password==self.password:\n",
    "                print('Sucessfully logged in ')\n",
    "                break\n",
    "            else:\n",
    "                print('User id or Password is invlaid')\n",
    "                continue\n",
    "    def personel_info(self):\n",
    "        print('Name:  ,',self.name)\n",
    "        print('Last Name',self.last_name)\n",
    "        print('City ', self.city)\n",
    "    def general(self):\n",
    "        print('Language: ', 'English(US)')\n",
    "        print('User ID: ', self.user_id )\n",
    "    "
   ]
  },
  {
   "cell_type": "code",
   "execution_count": 4,
   "id": "b9917ec5",
   "metadata": {},
   "outputs": [],
   "source": [
    "# here mail is object\n",
    "mail= Gmail('Ravindra','Hanchate','Mumbai','rhravi23','rvh236')"
   ]
  },
  {
   "cell_type": "code",
   "execution_count": 5,
   "id": "923e015d",
   "metadata": {},
   "outputs": [
    {
     "name": "stdout",
     "output_type": "stream",
     "text": [
      "Email- rhravi23@gmail.com\n",
      "password- rvh236\n",
      "User id or Password is invlaid\n",
      "Email- rhravi23\n",
      "password- rvh236\n",
      "Sucessfully logged in \n"
     ]
    }
   ],
   "source": [
    "mail.login()"
   ]
  },
  {
   "cell_type": "code",
   "execution_count": 6,
   "id": "19e9d89e",
   "metadata": {},
   "outputs": [
    {
     "name": "stdout",
     "output_type": "stream",
     "text": [
      "Name:  , Ravindra\n",
      "Last Name Hanchate\n",
      "City  Mumbai\n"
     ]
    }
   ],
   "source": [
    "mail.personel_info()"
   ]
  },
  {
   "cell_type": "code",
   "execution_count": 7,
   "id": "bdccabb2",
   "metadata": {},
   "outputs": [
    {
     "name": "stdout",
     "output_type": "stream",
     "text": [
      "Language:  English(US)\n",
      "User ID:  rhravi23\n"
     ]
    }
   ],
   "source": [
    "mail.general()"
   ]
  },
  {
   "cell_type": "code",
   "execution_count": 10,
   "id": "16806805",
   "metadata": {},
   "outputs": [],
   "source": [
    "class Gmail_new(Gmail):\n",
    "    \n",
    "    def __init__(self,phone_number, *args):\n",
    "        super(Gmail_new, self).__init__(*args)\n",
    "        self.phone_number=phone_number\n",
    "    \n",
    "    def password_recovery(self):\n",
    "        phone=int(input('Enter registered phone number'))\n",
    "        if phone== self.phone_number:\n",
    "            print('Your password is ', self.password)\n",
    "            \n",
    "        else:\n",
    "            print('Invalid passowrd')"
   ]
  },
  {
   "cell_type": "code",
   "execution_count": 11,
   "id": "52cbf0b0",
   "metadata": {},
   "outputs": [],
   "source": [
    "new_mail= Gmail_new(9892347010,'Ravindra','Hanchate','Mumbai','rhravi23','rvh236')"
   ]
  },
  {
   "cell_type": "code",
   "execution_count": 14,
   "id": "c3f77407",
   "metadata": {},
   "outputs": [
    {
     "name": "stdout",
     "output_type": "stream",
     "text": [
      "Enter registered phone number9892347010\n",
      "Your password is  rvh236\n"
     ]
    }
   ],
   "source": [
    "new_mail.password_recovery()"
   ]
  },
  {
   "cell_type": "code",
   "execution_count": 23,
   "id": "10c54a34",
   "metadata": {},
   "outputs": [
    {
     "name": "stdout",
     "output_type": "stream",
     "text": [
      "Tyres: \n",
      " \tBranch:MRF\n",
      " \tbelted-bias:True\n",
      " \tOptimal pressure: 34\n",
      "Engine: \n",
      " \tfuel type:Petrol\n",
      " \tnoise level:2.3\n",
      "Body: \n",
      " \tSize:SUV\n"
     ]
    }
   ],
   "source": [
    "class Tyres:\n",
    "    def __init__(self,branch,belted_bias,opt_pressure):\n",
    "        self.branch= branch\n",
    "        self.belted_bias= belted_bias\n",
    "        self.opt_pressure= opt_pressure\n",
    "    def __str__(self):\n",
    "        return(\"Tyres: \\n \\tBranch:\" +self.branch+\n",
    "               \"\\n \\tbelted-bias:\" + str(self.belted_bias)+ \n",
    "               \"\\n \\tOptimal pressure: \"+ str(self.opt_pressure))\n",
    "class Engine:\n",
    "    def __init__(self,fuel_type,noise_level):\n",
    "        self.fuel_type= fuel_type\n",
    "        self.noise_level= noise_level\n",
    "        \n",
    "    def __str__(self):\n",
    "        return(\"Engine: \\n \\tfuel type:\" +self.fuel_type+\n",
    "               \"\\n \\tnoise level:\" + str(self.noise_level))\n",
    "class Body:\n",
    "    def __init__(self,size):\n",
    "        self.size= size\n",
    "        \n",
    "    def __str__(self):\n",
    "        return(\"Body: \\n \\tSize:\" +self.size)\n",
    "    \n",
    "class Car:\n",
    "    def __init__(self,tyres,engine,body):\n",
    "        self.tyres= tyres\n",
    "        self.engine= engine\n",
    "        self.body= body\n",
    "    def __str__(self):\n",
    "        return str(self.tyres)+ \"\\n\"+ str(self.engine)+ \"\\n\" +str(self.body) \n",
    "    \n",
    "\n",
    "t= Tyres('MRF', True, 34)\n",
    "e= Engine('Petrol', 2.3)\n",
    "b= Body('SUV')\n",
    "c= Car(t,e,b)\n",
    "print(c)\n",
    "    \n"
   ]
  },
  {
   "cell_type": "code",
   "execution_count": 24,
   "id": "fc1d133d",
   "metadata": {},
   "outputs": [],
   "source": [
    "import numpy as np"
   ]
  },
  {
   "cell_type": "code",
   "execution_count": null,
   "id": "e3e9fb10",
   "metadata": {},
   "outputs": [],
   "source": [
    "np.\n"
   ]
  }
 ],
 "metadata": {
  "kernelspec": {
   "display_name": "Python 3 (ipykernel)",
   "language": "python",
   "name": "python3"
  },
  "language_info": {
   "codemirror_mode": {
    "name": "ipython",
    "version": 3
   },
   "file_extension": ".py",
   "mimetype": "text/x-python",
   "name": "python",
   "nbconvert_exporter": "python",
   "pygments_lexer": "ipython3",
   "version": "3.9.7"
  }
 },
 "nbformat": 4,
 "nbformat_minor": 5
}
