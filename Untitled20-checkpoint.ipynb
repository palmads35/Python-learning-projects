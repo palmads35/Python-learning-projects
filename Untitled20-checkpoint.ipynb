{
 "cells": [
  {
   "cell_type": "code",
   "execution_count": 1,
   "id": "9f765bd0",
   "metadata": {},
   "outputs": [],
   "source": [
    "import sqlite3"
   ]
  },
  {
   "cell_type": "code",
   "execution_count": 2,
   "id": "f4c97e5b",
   "metadata": {},
   "outputs": [],
   "source": [
    "db=sqlite3.connect('my_database.db')"
   ]
  },
  {
   "cell_type": "code",
   "execution_count": 3,
   "id": "ec48bab3",
   "metadata": {},
   "outputs": [],
   "source": [
    "cursor=db.cursor() #declare cursor"
   ]
  },
  {
   "cell_type": "code",
   "execution_count": null,
   "id": "49dd85e9",
   "metadata": {},
   "outputs": [],
   "source": [
    "#create table\n",
    "cursor.execute('CREATE TABLE scores1(gender TEXT,student_id INT PRIMARY KEY,marks)')"
   ]
  }
 ],
 "metadata": {
  "kernelspec": {
   "display_name": "Python 3 (ipykernel)",
   "language": "python",
   "name": "python3"
  },
  "language_info": {
   "codemirror_mode": {
    "name": "ipython",
    "version": 3
   },
   "file_extension": ".py",
   "mimetype": "text/x-python",
   "name": "python",
   "nbconvert_exporter": "python",
   "pygments_lexer": "ipython3",
   "version": "3.9.7"
  }
 },
 "nbformat": 4,
 "nbformat_minor": 5
}
