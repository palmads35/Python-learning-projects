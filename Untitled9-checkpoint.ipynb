{
 "cells": [
  {
   "cell_type": "code",
   "execution_count": 2,
   "id": "546d956d",
   "metadata": {},
   "outputs": [
    {
     "name": "stdout",
     "output_type": "stream",
     "text": [
      "Income till date= 100\n",
      "The Total Weekly Income is  100\n",
      "Income till date= 250\n",
      "The Total Weekly Income is  250\n",
      "Income till date= 350\n",
      "The Total Weekly Income is  350\n",
      "Income till date= 550\n",
      "The Total Weekly Income is  550\n",
      "Income till date= 700\n",
      "The Total Weekly Income is  700\n",
      "Income till date= 900\n",
      "The Total Weekly Income is  900\n",
      "Income till date= 1200\n",
      "The Total Weekly Income is  1200\n"
     ]
    }
   ],
   "source": [
    "daily_sales= [100,150,100,200,150,200,300]\n",
    "income_tilldate=0\n",
    "\n",
    "for val in daily_sales:\n",
    "    \n",
    "    income_tilldate=income_tilldate+val\n",
    "    print('Income till date=', income_tilldate)\n",
    "    print(\"The Total Weekly Income is \",income_tilldate)"
   ]
  },
  {
   "cell_type": "code",
   "execution_count": 5,
   "id": "552091d2",
   "metadata": {},
   "outputs": [
    {
     "name": "stdout",
     "output_type": "stream",
     "text": [
      "1 Ravindra\n",
      "2 Ravindra\n",
      "3 Ravindra\n",
      "4 Ravindra\n",
      "5 Ravindra\n",
      "6 Ravindra\n",
      "7 Ravindra\n",
      "8 Ravindra\n",
      "9 Ravindra\n",
      "10 Ravindra\n",
      "11 Ravindra\n",
      "12 Ravindra\n",
      "13 Ravindra\n",
      "14 Ravindra\n",
      "15 Ravindra\n",
      "16 Ravindra\n",
      "17 Ravindra\n",
      "18 Ravindra\n",
      "19 Ravindra\n",
      "20 Ravindra\n",
      "21 Ravindra\n",
      "22 Ravindra\n",
      "23 Ravindra\n",
      "24 Ravindra\n",
      "25 Ravindra\n",
      "26 Ravindra\n",
      "27 Ravindra\n",
      "28 Ravindra\n",
      "29 Ravindra\n",
      "30 Ravindra\n"
     ]
    }
   ],
   "source": [
    "i=0\n",
    "while i <30:\n",
    "    i=i + 1\n",
    "    print(i, 'Ravindra')\n"
   ]
  },
  {
   "cell_type": "code",
   "execution_count": 7,
   "id": "4ced221a",
   "metadata": {},
   "outputs": [
    {
     "name": "stdout",
     "output_type": "stream",
     "text": [
      "time.struct_time(tm_year=2022, tm_mon=2, tm_mday=16, tm_hour=9, tm_min=22, tm_sec=27, tm_wday=2, tm_yday=47, tm_isdst=0)\n"
     ]
    }
   ],
   "source": [
    "import time\n",
    "\n",
    "result= time.localtime()\n",
    "print(result)"
   ]
  },
  {
   "cell_type": "code",
   "execution_count": 7,
   "id": "b965037e",
   "metadata": {},
   "outputs": [
    {
     "ename": "NameError",
     "evalue": "name 'time' is not defined",
     "output_type": "error",
     "traceback": [
      "\u001b[1;31m---------------------------------------------------------------------------\u001b[0m",
      "\u001b[1;31mNameError\u001b[0m                                 Traceback (most recent call last)",
      "\u001b[1;32m~\\AppData\\Local\\Temp/ipykernel_10588/3340816792.py\u001b[0m in \u001b[0;36m<module>\u001b[1;34m\u001b[0m\n\u001b[0;32m      1\u001b[0m \u001b[1;32mwhile\u001b[0m \u001b[1;32mTrue\u001b[0m\u001b[1;33m:\u001b[0m\u001b[1;33m\u001b[0m\u001b[1;33m\u001b[0m\u001b[0m\n\u001b[1;32m----> 2\u001b[1;33m     \u001b[0mresult\u001b[0m\u001b[1;33m=\u001b[0m\u001b[0mtime\u001b[0m\u001b[1;33m.\u001b[0m\u001b[0mlocaltime\u001b[0m\u001b[1;33m(\u001b[0m\u001b[1;33m)\u001b[0m\u001b[1;33m\u001b[0m\u001b[1;33m\u001b[0m\u001b[0m\n\u001b[0m\u001b[0;32m      3\u001b[0m     \u001b[1;32mif\u001b[0m \u001b[0mresult\u001b[0m\u001b[1;33m.\u001b[0m\u001b[0mtm_hour\u001b[0m\u001b[1;33m==\u001b[0m\u001b[1;36m10\u001b[0m \u001b[1;32mand\u001b[0m \u001b[0mresult\u001b[0m\u001b[1;33m.\u001b[0m\u001b[0mtm_min\u001b[0m\u001b[1;33m==\u001b[0m\u001b[1;36m10\u001b[0m\u001b[1;33m:\u001b[0m\u001b[1;33m\u001b[0m\u001b[1;33m\u001b[0m\u001b[0m\n\u001b[0;32m      4\u001b[0m         \u001b[0mprint\u001b[0m\u001b[1;33m(\u001b[0m\u001b[1;34m'Wake Ravindra'\u001b[0m\u001b[1;33m)\u001b[0m\u001b[1;33m\u001b[0m\u001b[1;33m\u001b[0m\u001b[0m\n\u001b[0;32m      5\u001b[0m         \u001b[1;32mbreak\u001b[0m\u001b[1;33m\u001b[0m\u001b[1;33m\u001b[0m\u001b[0m\n",
      "\u001b[1;31mNameError\u001b[0m: name 'time' is not defined"
     ]
    }
   ],
   "source": [
    "while True:\n",
    "    result=time.localtime()\n",
    "    if result.tm_hour==10 and result.tm_min==10:\n",
    "        print('Wake Ravindra')\n",
    "        break"
   ]
  },
  {
   "cell_type": "code",
   "execution_count": 1,
   "id": "8e1b041b",
   "metadata": {},
   "outputs": [
    {
     "name": "stdout",
     "output_type": "stream",
     "text": [
      "Mon\n",
      "Tue\n",
      "Wed\n",
      "Thu\n",
      "Fri\n",
      "Sat\n"
     ]
    }
   ],
   "source": [
    "daily_sales={'Mon':'2000','Tue':4500,'Wed':5000,'Thu':6000,'Fri':7000,'Sat':3450}\n",
    "for val in daily_sales:\n",
    "    print(val)"
   ]
  },
  {
   "cell_type": "code",
   "execution_count": null,
   "id": "d44b6bb6",
   "metadata": {},
   "outputs": [],
   "source": [
    "def__init__(self,name,last_name,city,user_id,password):\n",
    "    self.name=name\n",
    "    sel"
   ]
  }
 ],
 "metadata": {
  "kernelspec": {
   "display_name": "Python 3 (ipykernel)",
   "language": "python",
   "name": "python3"
  },
  "language_info": {
   "codemirror_mode": {
    "name": "ipython",
    "version": 3
   },
   "file_extension": ".py",
   "mimetype": "text/x-python",
   "name": "python",
   "nbconvert_exporter": "python",
   "pygments_lexer": "ipython3",
   "version": "3.9.7"
  }
 },
 "nbformat": 4,
 "nbformat_minor": 5
}
