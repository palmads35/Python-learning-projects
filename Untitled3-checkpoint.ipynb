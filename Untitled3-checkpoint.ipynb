{
 "cells": [
  {
   "cell_type": "code",
   "execution_count": 2,
   "id": "a9e11400",
   "metadata": {},
   "outputs": [
    {
     "name": "stdout",
     "output_type": "stream",
     "text": [
      "time.struct_time(tm_year=2022, tm_mon=2, tm_mday=18, tm_hour=10, tm_min=25, tm_sec=21, tm_wday=4, tm_yday=49, tm_isdst=0)\n"
     ]
    }
   ],
   "source": [
    "import time\n",
    "result= time.localtime()\n",
    "print(result)"
   ]
  },
  {
   "cell_type": "code",
   "execution_count": 5,
   "id": "02cb9108",
   "metadata": {},
   "outputs": [
    {
     "name": "stdout",
     "output_type": "stream",
     "text": [
      "Ravi wake up\n"
     ]
    }
   ],
   "source": [
    "while True:\n",
    "    result=time.localtime()\n",
    "    if result.tm_hour==10 and result.tm_min==27:\n",
    "        print('Ravi wake up')\n",
    "        break"
   ]
  },
  {
   "cell_type": "code",
   "execution_count": 6,
   "id": "bd913a55",
   "metadata": {},
   "outputs": [
    {
     "name": "stdout",
     "output_type": "stream",
     "text": [
      "(0, 'Naveen')\n",
      "(1, 'Ratna')\n",
      "(2, 'Ravi')\n",
      "(3, 'Vivaan')\n",
      "(4, 'Shridhar')\n",
      "(5, 'Chinnu')\n"
     ]
    }
   ],
   "source": [
    "students=['Naveen','Ratna','Ravi','Vivaan','Shridhar','Chinnu']\n",
    "for name in enumerate(students):\n",
    "    print(name)"
   ]
  },
  {
   "cell_type": "code",
   "execution_count": 8,
   "id": "ea18ba59",
   "metadata": {},
   "outputs": [
    {
     "name": "stdout",
     "output_type": "stream",
     "text": [
      "1 Naveen\n",
      "2 Ratna\n",
      "3 Ravi\n",
      "4 Vivaan\n",
      "5 Shridhar\n",
      "6 Chinnu\n"
     ]
    }
   ],
   "source": [
    "for i,name in enumerate(students,1):\n",
    "    print(i,name)"
   ]
  },
  {
   "cell_type": "code",
   "execution_count": 23,
   "id": "7f5fdc21",
   "metadata": {},
   "outputs": [],
   "source": [
    "students_names=['Naveen','Ratna','Ravi','Vivaan','Shridhar','Chinnu']\n",
    "students_marks=[53,74,96,81,55,83]\n",
    "students_details = (zip(students_names,students_marks))\n"
   ]
  },
  {
   "cell_type": "code",
   "execution_count": 13,
   "id": "000c416d",
   "metadata": {},
   "outputs": [
    {
     "data": {
      "text/plain": [
       "[('Naveen', 53),\n",
       " ('Ratna', 74),\n",
       " ('Ravi', 96),\n",
       " ('Vivaan', 81),\n",
       " ('Shridhar', 55),\n",
       " ('Chinnu', 83)]"
      ]
     },
     "execution_count": 13,
     "metadata": {},
     "output_type": "execute_result"
    }
   ],
   "source": [
    "students_details=list(zip(students_names,students_marks))\n",
    "students_details"
   ]
  },
  {
   "cell_type": "code",
   "execution_count": 14,
   "id": "e87abeb2",
   "metadata": {},
   "outputs": [
    {
     "data": {
      "text/plain": [
       "('Naveen', 'Ratna', 'Ravi', 'Vivaan', 'Shridhar', 'Chinnu')"
      ]
     },
     "execution_count": 14,
     "metadata": {},
     "output_type": "execute_result"
    }
   ],
   "source": [
    "name,marks_num= zip(*students_details)\n",
    "name"
   ]
  },
  {
   "cell_type": "code",
   "execution_count": 15,
   "id": "caab4f97",
   "metadata": {},
   "outputs": [
    {
     "data": {
      "text/plain": [
       "(53, 74, 96, 81, 55, 83)"
      ]
     },
     "execution_count": 15,
     "metadata": {},
     "output_type": "execute_result"
    }
   ],
   "source": [
    "marks_num"
   ]
  },
  {
   "cell_type": "code",
   "execution_count": 18,
   "id": "04117b01",
   "metadata": {},
   "outputs": [
    {
     "name": "stdout",
     "output_type": "stream",
     "text": [
      "1 Naveen 53\n",
      "2 Ratna 74\n",
      "3 Ravi 96\n",
      "4 Vivaan 81\n",
      "5 Shridhar 55\n",
      "6 Chinnu 83\n"
     ]
    }
   ],
   "source": [
    "students_names=['Naveen','Ratna','Ravi','Vivaan','Shridhar','Chinnu']\n",
    "students_marks=[53,74,96,81,55,83]\n",
    "for i,(names,marks)in enumerate(zip(students_names,students_marks),1):\n",
    "    print(i,names,marks)\n"
   ]
  },
  {
   "cell_type": "code",
   "execution_count": 27,
   "id": "900d1702",
   "metadata": {},
   "outputs": [
    {
     "name": "stdout",
     "output_type": "stream",
     "text": [
      "Bengluru\n",
      "Delhi\n",
      "Noida\n"
     ]
    }
   ],
   "source": [
    "city=['Bengluru','Delhi','Noida','Hyderabad','Mumbai']\n",
    "for val in city:\n",
    "    if val=='Hyderabad':\n",
    "        break\n",
    "    print(val)"
   ]
  },
  {
   "cell_type": "code",
   "execution_count": 30,
   "id": "a9d18fbf",
   "metadata": {},
   "outputs": [
    {
     "name": "stdout",
     "output_type": "stream",
     "text": [
      "2000\n",
      "3000\n",
      "4000\n",
      "4500\n"
     ]
    }
   ],
   "source": [
    "salary=[2000,3000,4000,4500,5000,7000,8000]\n",
    "for val in salary:\n",
    "    if val>4600:\n",
    "        break\n",
    "    print(val)    \n",
    "    "
   ]
  },
  {
   "cell_type": "code",
   "execution_count": 31,
   "id": "dfcaac9a",
   "metadata": {},
   "outputs": [
    {
     "name": "stdout",
     "output_type": "stream",
     "text": [
      "Bengluru\n",
      "Delhi\n",
      "Noida\n",
      "Mumbai\n"
     ]
    }
   ],
   "source": [
    "city=['Bengluru','Delhi','Noida','Hyderabad','Mumbai']\n",
    "for val in city:\n",
    "    if val=='Hyderabad':\n",
    "        continue\n",
    "    print(val)"
   ]
  },
  {
   "cell_type": "code",
   "execution_count": 3,
   "id": "9284a34a",
   "metadata": {},
   "outputs": [
    {
     "ename": "SyntaxError",
     "evalue": "invalid syntax (Temp/ipykernel_14796/2040585276.py, line 1)",
     "output_type": "error",
     "traceback": [
      "\u001b[1;36m  File \u001b[1;32m\"C:\\Users\\haufa617\\AppData\\Local\\Temp/ipykernel_14796/2040585276.py\"\u001b[1;36m, line \u001b[1;32m1\u001b[0m\n\u001b[1;33m    salary=['w':'2000']\u001b[0m\n\u001b[1;37m               ^\u001b[0m\n\u001b[1;31mSyntaxError\u001b[0m\u001b[1;31m:\u001b[0m invalid syntax\n"
     ]
    }
   ],
   "source": [
    "salary=['w':'2000']\n",
    "for val in salary:\n",
    "    \n",
    "    print(val)    \n",
    "    "
   ]
  },
  {
   "cell_type": "code",
   "execution_count": 33,
   "id": "e4e50334",
   "metadata": {},
   "outputs": [
    {
     "name": "stdout",
     "output_type": "stream",
     "text": [
      "range(0, 10)\n"
     ]
    }
   ],
   "source": [
    "print(range(10))"
   ]
  },
  {
   "cell_type": "code",
   "execution_count": 34,
   "id": "c6e2e8af",
   "metadata": {},
   "outputs": [
    {
     "name": "stdout",
     "output_type": "stream",
     "text": [
      "[0, 1, 2, 3, 4, 5, 6, 7, 8, 9]\n"
     ]
    }
   ],
   "source": [
    "print(list(range(10)))"
   ]
  },
  {
   "cell_type": "code",
   "execution_count": 36,
   "id": "4f481ae3",
   "metadata": {},
   "outputs": [
    {
     "data": {
      "text/plain": [
       "[1, 2, 3, 4, 5, 6, 7]"
      ]
     },
     "execution_count": 36,
     "metadata": {},
     "output_type": "execute_result"
    }
   ],
   "source": [
    "roll_numbers=list(range(1,8))\n",
    "roll_numbers"
   ]
  },
  {
   "cell_type": "code",
   "execution_count": 37,
   "id": "5e2ab13d",
   "metadata": {},
   "outputs": [
    {
     "data": {
      "text/plain": [
       "[0, 3, 6, 9, 12, 15, 18, 21, 24, 27, 30]"
      ]
     },
     "execution_count": 37,
     "metadata": {},
     "output_type": "execute_result"
    }
   ],
   "source": [
    "step_size=list(range(0,31,3))\n",
    "step_size"
   ]
  },
  {
   "cell_type": "code",
   "execution_count": 38,
   "id": "e5643f91",
   "metadata": {},
   "outputs": [
    {
     "data": {
      "text/plain": [
       "[0,\n",
       " 2,\n",
       " 4,\n",
       " 6,\n",
       " 8,\n",
       " 10,\n",
       " 12,\n",
       " 14,\n",
       " 16,\n",
       " 18,\n",
       " 20,\n",
       " 22,\n",
       " 24,\n",
       " 26,\n",
       " 28,\n",
       " 30,\n",
       " 32,\n",
       " 34,\n",
       " 36,\n",
       " 38,\n",
       " 40,\n",
       " 42,\n",
       " 44,\n",
       " 46]"
      ]
     },
     "execution_count": 38,
     "metadata": {},
     "output_type": "execute_result"
    }
   ],
   "source": [
    "step_size=list(range(0,48,2))\n",
    "step_size"
   ]
  },
  {
   "cell_type": "code",
   "execution_count": null,
   "id": "1efc4f67",
   "metadata": {},
   "outputs": [],
   "source": []
  }
 ],
 "metadata": {
  "kernelspec": {
   "display_name": "Python 3 (ipykernel)",
   "language": "python",
   "name": "python3"
  },
  "language_info": {
   "codemirror_mode": {
    "name": "ipython",
    "version": 3
   },
   "file_extension": ".py",
   "mimetype": "text/x-python",
   "name": "python",
   "nbconvert_exporter": "python",
   "pygments_lexer": "ipython3",
   "version": "3.9.7"
  }
 },
 "nbformat": 4,
 "nbformat_minor": 5
}
