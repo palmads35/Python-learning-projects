{
 "cells": [
  {
   "cell_type": "code",
   "execution_count": 1,
   "id": "45666ce0",
   "metadata": {},
   "outputs": [],
   "source": [
    "from numpy.random import randint as ri\n",
    "import pandas as pd"
   ]
  },
  {
   "cell_type": "code",
   "execution_count": 2,
   "id": "6a37baea",
   "metadata": {},
   "outputs": [
    {
     "data": {
      "text/plain": [
       "0    98\n",
       "1    45\n",
       "2    53\n",
       "3    54\n",
       "4    53\n",
       "dtype: int32"
      ]
     },
     "execution_count": 2,
     "metadata": {},
     "output_type": "execute_result"
    }
   ],
   "source": [
    "marks =ri(30,100,1000) # Randomly generating  100 int b/w 30 -100\n",
    "stu_marks= pd.Series(marks)\n",
    "stu_marks.head()"
   ]
  },
  {
   "cell_type": "code",
   "execution_count": 3,
   "id": "018830d6",
   "metadata": {},
   "outputs": [
    {
     "data": {
      "text/plain": [
       "64.947"
      ]
     },
     "execution_count": 3,
     "metadata": {},
     "output_type": "execute_result"
    }
   ],
   "source": [
    "#Mean\n",
    "marks_mean= stu_marks.mean()\n",
    "marks_mean\n"
   ]
  },
  {
   "cell_type": "code",
   "execution_count": 4,
   "id": "5564f1d3",
   "metadata": {},
   "outputs": [
    {
     "data": {
      "text/plain": [
       "20.638171554794408"
      ]
     },
     "execution_count": 4,
     "metadata": {},
     "output_type": "execute_result"
    }
   ],
   "source": [
    "marks_std= stu_marks.std()\n",
    "marks_std"
   ]
  },
  {
   "cell_type": "code",
   "execution_count": 5,
   "id": "5210fdc0",
   "metadata": {},
   "outputs": [],
   "source": [
    "x=50 # What is the probability of student scoring upto 50%"
   ]
  },
  {
   "cell_type": "code",
   "execution_count": 6,
   "id": "5557a784",
   "metadata": {},
   "outputs": [
    {
     "data": {
      "text/plain": [
       "0.23445904457907596"
      ]
     },
     "execution_count": 6,
     "metadata": {},
     "output_type": "execute_result"
    }
   ],
   "source": [
    "import scipy.stats as st\n",
    "prob=st.norm.cdf(x,loc=marks_mean,scale=marks_std)\n",
    "(prob)"
   ]
  },
  {
   "cell_type": "code",
   "execution_count": 21,
   "id": "9338b0de",
   "metadata": {},
   "outputs": [],
   "source": [
    "# How to probability of studendts score that >50 marks (1-prob)"
   ]
  },
  {
   "cell_type": "code",
   "execution_count": 7,
   "id": "acc95787",
   "metadata": {},
   "outputs": [
    {
     "data": {
      "text/plain": [
       "-0.7242405152179142"
      ]
     },
     "execution_count": 7,
     "metadata": {},
     "output_type": "execute_result"
    }
   ],
   "source": [
    "score= (x-marks_mean)/marks_std\n",
    "score"
   ]
  },
  {
   "cell_type": "code",
   "execution_count": 8,
   "id": "63c869a7",
   "metadata": {},
   "outputs": [
    {
     "data": {
      "text/plain": [
       "-0.7242405152179142"
      ]
     },
     "execution_count": 8,
     "metadata": {},
     "output_type": "execute_result"
    }
   ],
   "source": [
    "# Find the probablity of getting marks 50-60 marks\n",
    "#p(50<z<60)\n",
    "#for 50\n",
    "(50-marks_mean)/marks_std"
   ]
  },
  {
   "cell_type": "code",
   "execution_count": 9,
   "id": "b261cde4",
   "metadata": {},
   "outputs": [
    {
     "data": {
      "text/plain": [
       "-0.23970146710263082"
      ]
     },
     "execution_count": 9,
     "metadata": {},
     "output_type": "execute_result"
    }
   ],
   "source": [
    "(60-marks_mean)/marks_std"
   ]
  },
  {
   "cell_type": "code",
   "execution_count": 10,
   "id": "fdf59ff4",
   "metadata": {},
   "outputs": [],
   "source": [
    "import numpy as np\n",
    "mean= 25\n",
    "sample_mean= 24.2\n",
    "std=1.5\n",
    "n=30"
   ]
  },
  {
   "cell_type": "code",
   "execution_count": 11,
   "id": "3be1dda2",
   "metadata": {},
   "outputs": [
    {
     "data": {
      "text/plain": [
       "-2.921186973360889"
      ]
     },
     "execution_count": 11,
     "metadata": {},
     "output_type": "execute_result"
    }
   ],
   "source": [
    "z=(sample_mean-mean)/(std/np.sqrt(30))\n",
    "z"
   ]
  },
  {
   "cell_type": "code",
   "execution_count": 12,
   "id": "622b65ff",
   "metadata": {},
   "outputs": [
    {
     "data": {
      "text/plain": [
       "0.0017435024460706768"
      ]
     },
     "execution_count": 12,
     "metadata": {},
     "output_type": "execute_result"
    }
   ],
   "source": [
    "import scipy.stats as st\n",
    "import numpy as np\n",
    "p_value=st.norm.cdf(sample_mean,loc=mean,scale=std/np.sqrt(30))\n",
    "p_value"
   ]
  },
  {
   "cell_type": "code",
   "execution_count": 29,
   "id": "39a3e46a",
   "metadata": {},
   "outputs": [],
   "source": [
    "#Important points  standard alpha level=0.05\n",
    "# If p-value is <0.05 then we reject the null hypothesis(Ho)\n",
    "# If p-value is >0.05 then we failed to reject the Ho."
   ]
  },
  {
   "cell_type": "code",
   "execution_count": 1,
   "id": "fcbd4e3f",
   "metadata": {},
   "outputs": [],
   "source": [
    "import pandas as pd\n",
    "import numpy as np"
   ]
  },
  {
   "cell_type": "code",
   "execution_count": 2,
   "id": "5c74b31c",
   "metadata": {},
   "outputs": [
    {
     "data": {
      "text/html": [
       "<div>\n",
       "<style scoped>\n",
       "    .dataframe tbody tr th:only-of-type {\n",
       "        vertical-align: middle;\n",
       "    }\n",
       "\n",
       "    .dataframe tbody tr th {\n",
       "        vertical-align: top;\n",
       "    }\n",
       "\n",
       "    .dataframe thead th {\n",
       "        text-align: right;\n",
       "    }\n",
       "</style>\n",
       "<table border=\"1\" class=\"dataframe\">\n",
       "  <thead>\n",
       "    <tr style=\"text-align: right;\">\n",
       "      <th></th>\n",
       "      <th>Student_ID</th>\n",
       "      <th>Semester</th>\n",
       "      <th>Total_Marks</th>\n",
       "    </tr>\n",
       "  </thead>\n",
       "  <tbody>\n",
       "    <tr>\n",
       "      <th>0</th>\n",
       "      <td>1</td>\n",
       "      <td>1</td>\n",
       "      <td>365</td>\n",
       "    </tr>\n",
       "    <tr>\n",
       "      <th>1</th>\n",
       "      <td>2</td>\n",
       "      <td>3</td>\n",
       "      <td>376</td>\n",
       "    </tr>\n",
       "    <tr>\n",
       "      <th>2</th>\n",
       "      <td>3</td>\n",
       "      <td>1</td>\n",
       "      <td>411</td>\n",
       "    </tr>\n",
       "    <tr>\n",
       "      <th>3</th>\n",
       "      <td>4</td>\n",
       "      <td>3</td>\n",
       "      <td>436</td>\n",
       "    </tr>\n",
       "    <tr>\n",
       "      <th>4</th>\n",
       "      <td>5</td>\n",
       "      <td>2</td>\n",
       "      <td>366</td>\n",
       "    </tr>\n",
       "  </tbody>\n",
       "</table>\n",
       "</div>"
      ],
      "text/plain": [
       "   Student_ID  Semester  Total_Marks\n",
       "0           1         1          365\n",
       "1           2         3          376\n",
       "2           3         1          411\n",
       "3           4         3          436\n",
       "4           5         2          366"
      ]
     },
     "execution_count": 2,
     "metadata": {},
     "output_type": "execute_result"
    }
   ],
   "source": [
    "hyp= pd.read_csv('https://raw.githubusercontent.com/training-ml/Files/main/Semester%20marks.csv')\n",
    "\n",
    "hyp.head()"
   ]
  },
  {
   "cell_type": "code",
   "execution_count": 35,
   "id": "59476d0d",
   "metadata": {},
   "outputs": [
    {
     "name": "stdout",
     "output_type": "stream",
     "text": [
      "8\n"
     ]
    }
   ],
   "source": [
    "a=3\n",
    "b=5\n",
    "c=a+b\n",
    "print(c)"
   ]
  },
  {
   "cell_type": "code",
   "execution_count": 5,
   "id": "10eaa51d",
   "metadata": {},
   "outputs": [
    {
     "ename": "ModuleNotFoundError",
     "evalue": "No module named 'statsmodel'",
     "output_type": "error",
     "traceback": [
      "\u001b[1;31m---------------------------------------------------------------------------\u001b[0m",
      "\u001b[1;31mModuleNotFoundError\u001b[0m                       Traceback (most recent call last)",
      "\u001b[1;32m~\\AppData\\Local\\Temp/ipykernel_13656/766123351.py\u001b[0m in \u001b[0;36m<module>\u001b[1;34m\u001b[0m\n\u001b[0;32m      1\u001b[0m \u001b[1;32mimport\u001b[0m \u001b[0mnumpy\u001b[0m \u001b[1;32mas\u001b[0m \u001b[0mnp\u001b[0m\u001b[1;33m\u001b[0m\u001b[1;33m\u001b[0m\u001b[0m\n\u001b[1;32m----> 2\u001b[1;33m \u001b[1;32mimport\u001b[0m \u001b[0mstatsmodel\u001b[0m\u001b[1;33m.\u001b[0m\u001b[0mformula\u001b[0m\u001b[1;33m.\u001b[0m\u001b[0mapi\u001b[0m \u001b[1;32mas\u001b[0m \u001b[0msm\u001b[0m\u001b[1;33m\u001b[0m\u001b[1;33m\u001b[0m\u001b[0m\n\u001b[0m\u001b[0;32m      3\u001b[0m \u001b[0mmod\u001b[0m\u001b[1;33m=\u001b[0m\u001b[0msm\u001b[0m\u001b[1;33m.\u001b[0m\u001b[0mols\u001b[0m\u001b[1;33m(\u001b[0m\u001b[1;34m'Total marks ~Semester'\u001b[0m\u001b[1;33m,\u001b[0m\u001b[0mdata\u001b[0m\u001b[1;33m=\u001b[0m\u001b[0mhyp\u001b[0m\u001b[1;33m)\u001b[0m\u001b[1;33m.\u001b[0m\u001b[0mfit\u001b[0m\u001b[1;33m(\u001b[0m\u001b[1;33m)\u001b[0m\u001b[1;31m# ols : ordinary least sqaure method.\u001b[0m\u001b[1;33m\u001b[0m\u001b[1;33m\u001b[0m\u001b[0m\n\u001b[0;32m      4\u001b[0m \u001b[0mmod\u001b[0m\u001b[1;33m\u001b[0m\u001b[1;33m\u001b[0m\u001b[0m\n",
      "\u001b[1;31mModuleNotFoundError\u001b[0m: No module named 'statsmodel'"
     ]
    }
   ],
   "source": [
    "import numpy as np\n",
    "import statsmodel.formula.api as sm\n",
    "mod=sm.ols('Total marks ~Semester',data=hyp).fit()# ols : ordinary least sqaure method.\n",
    "mod"
   ]
  },
  {
   "cell_type": "code",
   "execution_count": null,
   "id": "dc5a1619",
   "metadata": {},
   "outputs": [],
   "source": [
    "import  statsmodel.api as k\n",
    "aov_table=k.stats.anova_lm(mod,typ=1)\n",
    "aov_table"
   ]
  },
  {
   "cell_type": "code",
   "execution_count": null,
   "id": "4371365a",
   "metadata": {},
   "outputs": [],
   "source": []
  },
  {
   "cell_type": "code",
   "execution_count": null,
   "id": "268f8587",
   "metadata": {},
   "outputs": [],
   "source": []
  }
 ],
 "metadata": {
  "kernelspec": {
   "display_name": "Python 3 (ipykernel)",
   "language": "python",
   "name": "python3"
  },
  "language_info": {
   "codemirror_mode": {
    "name": "ipython",
    "version": 3
   },
   "file_extension": ".py",
   "mimetype": "text/x-python",
   "name": "python",
   "nbconvert_exporter": "python",
   "pygments_lexer": "ipython3",
   "version": "3.9.7"
  }
 },
 "nbformat": 4,
 "nbformat_minor": 5
}
