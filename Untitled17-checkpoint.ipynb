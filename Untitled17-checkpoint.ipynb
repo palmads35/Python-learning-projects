{
 "cells": [
  {
   "cell_type": "code",
   "execution_count": 1,
   "id": "e2949cde",
   "metadata": {},
   "outputs": [
    {
     "name": "stdout",
     "output_type": "stream",
     "text": [
      "Enter your nameRavindra\n",
      "Entered your name Ravindra\n"
     ]
    }
   ],
   "source": [
    "name= input('Enter your name')\n",
    "print('Entered your name',name)"
   ]
  },
  {
   "cell_type": "code",
   "execution_count": 2,
   "id": "13f4de6b",
   "metadata": {},
   "outputs": [
    {
     "name": "stdout",
     "output_type": "stream",
     "text": [
      "Enter your maths score68\n",
      "Enter your science score78\n",
      "Your total marks is: 146\n"
     ]
    }
   ],
   "source": [
    "maths =int(input('Enter your maths score'))\n",
    "science=int(input('Enter your science score'))\n",
    "total_marks= maths+science\n",
    "print('Your total marks is:',total_marks)"
   ]
  },
  {
   "cell_type": "code",
   "execution_count": 7,
   "id": "45410507",
   "metadata": {},
   "outputs": [
    {
     "name": "stdout",
     "output_type": "stream",
     "text": [
      "Enter your name:Ravindra\n",
      "You entered: Ravindra\n"
     ]
    }
   ],
   "source": [
    "name=input('Enter your name:')\n",
    "if name.isalpha():\n",
    "    print('You entered:', name)\n",
    "else:\n",
    "    print('Please enter alpha characters')"
   ]
  },
  {
   "cell_type": "code",
   "execution_count": 29,
   "id": "4fbab998",
   "metadata": {},
   "outputs": [],
   "source": [
    "def phone_price(phone_make,phone_age,phone_model_GB):\n",
    "    if phone_make=='iphone11':\n",
    "        if 0 <phone_age <=6:\n",
    "            if phone_model_GB==64:\n",
    "                print('Rs 39,500 - Rs 41,600')\n",
    "                \n",
    "            elif phone_model_GB==128:\n",
    "                print('Rs 45,500 - Rs 47,600')\n",
    "         \n",
    "        if 6 <phone_age<=12:\n",
    "            if phone_model_GB==64:\n",
    "                print('Rs 32,500 - Rs 35,600')\n",
    "                \n",
    "            elif phone_model_GB==128:\n",
    "                print('Rs 39,500 - Rs 44,600')\n",
    "                \n",
    "    if phone_make=='Samsung B110':\n",
    "        if 0 <phone_age <=6:\n",
    "            print('Rs 850 - Rs 975')\n",
    "        elif 6 <phone_age <=12:\n",
    "            print('Rs715-Rs 750')\n",
    "     \n",
    "    if phone_make=='Xiaomi 25':\n",
    "        if 0 <phone_age <=6:\n",
    "            if phone_model_GB==64:\n",
    "                print('Rs 15,500 - Rs 16,600')\n",
    "                \n",
    "            elif phone_model_GB==128:\n",
    "                print('Rs 17,500 - Rs 19,600')\n",
    "         \n",
    "        if 6 <phone_age<=12:\n",
    "            if phone_model_GB==64:\n",
    "                print('Rs 9,500 - Rs 10,600')\n",
    "                \n",
    "            elif phone_model_GB==128:\n",
    "                print('Rs 11,500 - Rs 12,600') \n",
    "    else:\n",
    "        print('No stock right now, please pay visit after few days')\n",
    "         \n"
   ]
  },
  {
   "cell_type": "code",
   "execution_count": 19,
   "id": "42883504",
   "metadata": {},
   "outputs": [
    {
     "name": "stdout",
     "output_type": "stream",
     "text": [
      "No stock right now, please pay visit after few days\n"
     ]
    }
   ],
   "source": [
    "phone_price('Oppo',5,128)"
   ]
  },
  {
   "cell_type": "code",
   "execution_count": 30,
   "id": "c7d5a0f6",
   "metadata": {},
   "outputs": [
    {
     "name": "stdout",
     "output_type": "stream",
     "text": [
      "Enter phone make-iphone11\n",
      "Enter how old is phone-8\n",
      "Enter GB in numbers-128\n",
      "Rs 39,500 - Rs 44,600\n",
      "No stock right now, please pay visit after few days\n"
     ]
    }
   ],
   "source": [
    "phone = input('Enter phone make-')\n",
    "months_old = int(input('Enter how old is phone-'))\n",
    "capacity =int(input('Enter GB in numbers-'))\n",
    "\n",
    "phone_price (phone, months_old,capacity)"
   ]
  },
  {
   "cell_type": "code",
   "execution_count": 32,
   "id": "6bc5c102",
   "metadata": {},
   "outputs": [
    {
     "name": "stdout",
     "output_type": "stream",
     "text": [
      "Total_marks=  123\n"
     ]
    }
   ],
   "source": [
    "# try and exception handling\n",
    "marks_1= 88\n",
    "subject= 'Data science'\n",
    "marks_2= 35\n",
    "\n",
    "try:\n",
    "    total_marks= marks_1 + marks_2\n",
    "    \n",
    "\n",
    "except:\n",
    "    print('Your adding integer to string.Make sure both data types are matching')\n",
    "    \n",
    "else:\n",
    "    print('Total_marks= ',total_marks)"
   ]
  },
  {
   "cell_type": "code",
   "execution_count": null,
   "id": "e8f8db70",
   "metadata": {},
   "outputs": [],
   "source": [
    "try:\n",
    "    car_number= input('Your car number')\n",
    "    name= input('Name')\n",
    "    mobile= input('Mobile number')\n",
    "    \n",
    "    "
   ]
  }
 ],
 "metadata": {
  "kernelspec": {
   "display_name": "Python 3 (ipykernel)",
   "language": "python",
   "name": "python3"
  },
  "language_info": {
   "codemirror_mode": {
    "name": "ipython",
    "version": 3
   },
   "file_extension": ".py",
   "mimetype": "text/x-python",
   "name": "python",
   "nbconvert_exporter": "python",
   "pygments_lexer": "ipython3",
   "version": "3.9.7"
  }
 },
 "nbformat": 4,
 "nbformat_minor": 5
}
