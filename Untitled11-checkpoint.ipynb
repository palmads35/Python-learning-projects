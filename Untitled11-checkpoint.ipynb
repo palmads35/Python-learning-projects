{
 "cells": [
  {
   "cell_type": "code",
   "execution_count": 2,
   "id": "8bb64633",
   "metadata": {},
   "outputs": [],
   "source": [
    "def say_hello():\n",
    "    print('Good Morning')\n"
   ]
  },
  {
   "cell_type": "code",
   "execution_count": 3,
   "id": "a28e6f13",
   "metadata": {},
   "outputs": [
    {
     "name": "stdout",
     "output_type": "stream",
     "text": [
      "Good Morning\n"
     ]
    }
   ],
   "source": [
    "say_hello()"
   ]
  },
  {
   "cell_type": "code",
   "execution_count": 4,
   "id": "0c8d96fd",
   "metadata": {},
   "outputs": [],
   "source": [
    "def greeting(name):\n",
    "    print('Hello', name)\n"
   ]
  },
  {
   "cell_type": "code",
   "execution_count": 5,
   "id": "9be45295",
   "metadata": {},
   "outputs": [
    {
     "name": "stdout",
     "output_type": "stream",
     "text": [
      "Hello Dear Students\n"
     ]
    }
   ],
   "source": [
    " greeting('Dear Students')"
   ]
  },
  {
   "cell_type": "code",
   "execution_count": 6,
   "id": "09a20f66",
   "metadata": {},
   "outputs": [],
   "source": [
    "def company(name):\n",
    "    print('Hello', name)"
   ]
  },
  {
   "cell_type": "code",
   "execution_count": 7,
   "id": "2523df13",
   "metadata": {},
   "outputs": [
    {
     "name": "stdout",
     "output_type": "stream",
     "text": [
      "Hello Vacuumschmelze\n"
     ]
    }
   ],
   "source": [
    "company('Vacuumschmelze')"
   ]
  },
  {
   "cell_type": "code",
   "execution_count": 8,
   "id": "4b2e3878",
   "metadata": {},
   "outputs": [],
   "source": [
    "def salary_incr(salary):\n",
    "    if salary<=9000:\n",
    "        return(salary+1000)\n",
    "    else:\n",
    "        return salary\n"
   ]
  },
  {
   "cell_type": "code",
   "execution_count": 12,
   "id": "b138ef78",
   "metadata": {},
   "outputs": [
    {
     "name": "stdout",
     "output_type": "stream",
     "text": [
      "Your new salary= 6500\n"
     ]
    }
   ],
   "source": [
    "print(\"Your new salary=\",salary_incr(5500))"
   ]
  },
  {
   "cell_type": "code",
   "execution_count": null,
   "id": "d8534258",
   "metadata": {},
   "outputs": [],
   "source": [
    "def phone_price(phone_make,phone_age,phone_model_GB):\n",
    "    if phone_make=='iphone11'\n"
   ]
  }
 ],
 "metadata": {
  "kernelspec": {
   "display_name": "Python 3 (ipykernel)",
   "language": "python",
   "name": "python3"
  },
  "language_info": {
   "codemirror_mode": {
    "name": "ipython",
    "version": 3
   },
   "file_extension": ".py",
   "mimetype": "text/x-python",
   "name": "python",
   "nbconvert_exporter": "python",
   "pygments_lexer": "ipython3",
   "version": "3.9.7"
  }
 },
 "nbformat": 4,
 "nbformat_minor": 5
}
