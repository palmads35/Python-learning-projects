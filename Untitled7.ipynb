{
 "cells": [
  {
   "cell_type": "code",
   "execution_count": 1,
   "id": "b4cf1304",
   "metadata": {},
   "outputs": [
    {
     "name": "stdout",
     "output_type": "stream",
     "text": [
      "Hello Good Morning\n"
     ]
    }
   ],
   "source": [
    "print('Hello Good Morning')"
   ]
  },
  {
   "cell_type": "code",
   "execution_count": 3,
   "id": "55311073",
   "metadata": {},
   "outputs": [
    {
     "name": "stdout",
     "output_type": "stream",
     "text": [
      "output= 600\n"
     ]
    }
   ],
   "source": [
    "a=24\n",
    "b=25\n",
    "c=a*b\n",
    "print(\"output=\",c)"
   ]
  },
  {
   "cell_type": "code",
   "execution_count": 13,
   "id": "9da8b3f1",
   "metadata": {},
   "outputs": [
    {
     "ename": "IndentationError",
     "evalue": "unexpected indent (Temp/ipykernel_12424/1043283324.py, line 4)",
     "output_type": "error",
     "traceback": [
      "\u001b[1;36m  File \u001b[1;32m\"C:\\Users\\Admin\\AppData\\Local\\Temp/ipykernel_12424/1043283324.py\"\u001b[1;36m, line \u001b[1;32m4\u001b[0m\n\u001b[1;33m    else i < 5:\u001b[0m\n\u001b[1;37m    ^\u001b[0m\n\u001b[1;31mIndentationError\u001b[0m\u001b[1;31m:\u001b[0m unexpected indent\n"
     ]
    }
   ],
   "source": [
    "i=4\n",
    "if i < 3:\n",
    "    print('less than 3')\n",
    "            else i < 5:\n",
    "                print('5 or more')\n",
    " "
   ]
  },
  {
   "cell_type": "code",
   "execution_count": 14,
   "id": "e504ae89",
   "metadata": {},
   "outputs": [
    {
     "name": "stdout",
     "output_type": "stream",
     "text": [
      "sum 9\n"
     ]
    }
   ],
   "source": [
    "a=4\n",
    "b=5\n",
    "sum=a+b\n",
    "print(\"sum\",sum)"
   ]
  },
  {
   "cell_type": "code",
   "execution_count": 16,
   "id": "d3ee61ac",
   "metadata": {},
   "outputs": [
    {
     "name": "stdout",
     "output_type": "stream",
     "text": [
      "DayDayDayDayDay\n"
     ]
    }
   ],
   "source": [
    "print(\"Day\" *5)"
   ]
  },
  {
   "cell_type": "code",
   "execution_count": 17,
   "id": "7bb46bbb",
   "metadata": {},
   "outputs": [
    {
     "name": "stdout",
     "output_type": "stream",
     "text": [
      "Day2\n"
     ]
    }
   ],
   "source": [
    "print('Day'+ str(2))"
   ]
  },
  {
   "cell_type": "code",
   "execution_count": 18,
   "id": "b79412aa",
   "metadata": {},
   "outputs": [
    {
     "data": {
      "text/plain": [
       "['a', 'b', 'c']"
      ]
     },
     "execution_count": 18,
     "metadata": {},
     "output_type": "execute_result"
    }
   ],
   "source": [
    "l=['a','b','c']\n",
    "l"
   ]
  },
  {
   "cell_type": "code",
   "execution_count": 20,
   "id": "5fc5313d",
   "metadata": {},
   "outputs": [
    {
     "name": "stdout",
     "output_type": "stream",
     "text": [
      "['a', 'b', 'c']\n"
     ]
    }
   ],
   "source": [
    "print(l)"
   ]
  },
  {
   "cell_type": "code",
   "execution_count": 21,
   "id": "377ef944",
   "metadata": {},
   "outputs": [
    {
     "data": {
      "text/plain": [
       "['a', 6, 9.16]"
      ]
     },
     "execution_count": 21,
     "metadata": {},
     "output_type": "execute_result"
    }
   ],
   "source": [
    "l=['a',6,9.16]\n",
    "l"
   ]
  },
  {
   "cell_type": "code",
   "execution_count": 23,
   "id": "6aa5e0ec",
   "metadata": {},
   "outputs": [
    {
     "data": {
      "text/plain": [
       "['a', 6, 9.16]"
      ]
     },
     "execution_count": 23,
     "metadata": {},
     "output_type": "execute_result"
    }
   ],
   "source": [
    "l2=list(l)\n",
    "l2"
   ]
  },
  {
   "cell_type": "code",
   "execution_count": 24,
   "id": "9bc47709",
   "metadata": {},
   "outputs": [
    {
     "data": {
      "text/plain": [
       "[35, 45, 60, 80]"
      ]
     },
     "execution_count": 24,
     "metadata": {},
     "output_type": "execute_result"
    }
   ],
   "source": [
    "marks=[35,45,60,80]\n",
    "marks"
   ]
  },
  {
   "cell_type": "code",
   "execution_count": 26,
   "id": "91e256af",
   "metadata": {},
   "outputs": [
    {
     "data": {
      "text/plain": [
       "[35, 45, 60, 80]"
      ]
     },
     "execution_count": 26,
     "metadata": {},
     "output_type": "execute_result"
    }
   ],
   "source": [
    "copy_marks= marks.copy()\n",
    "marks"
   ]
  },
  {
   "cell_type": "code",
   "execution_count": 37,
   "id": "5e9cda9a",
   "metadata": {},
   "outputs": [
    {
     "data": {
      "text/plain": [
       "['Ravindra']"
      ]
     },
     "execution_count": 37,
     "metadata": {},
     "output_type": "execute_result"
    }
   ],
   "source": [
    "list=['Ravindra']\n",
    "list"
   ]
  },
  {
   "cell_type": "markdown",
   "id": "da8419d5",
   "metadata": {},
   "source": [
    "list=[\"Shankar\"]\n",
    "print(list)"
   ]
  },
  {
   "cell_type": "code",
   "execution_count": 52,
   "id": "ef6e98f9",
   "metadata": {},
   "outputs": [
    {
     "data": {
      "text/plain": [
       "[]"
      ]
     },
     "execution_count": 52,
     "metadata": {},
     "output_type": "execute_result"
    }
   ],
   "source": [
    "employee=[]\n",
    "employee"
   ]
  },
  {
   "cell_type": "code",
   "execution_count": 53,
   "id": "d2e29fa3",
   "metadata": {},
   "outputs": [
    {
     "data": {
      "text/plain": [
       "[]"
      ]
     },
     "execution_count": 53,
     "metadata": {},
     "output_type": "execute_result"
    }
   ],
   "source": [
    "workers=[]\n",
    "workers"
   ]
  },
  {
   "cell_type": "code",
   "execution_count": 54,
   "id": "715471c8",
   "metadata": {},
   "outputs": [
    {
     "data": {
      "text/plain": [
       "['Radha']"
      ]
     },
     "execution_count": 54,
     "metadata": {},
     "output_type": "execute_result"
    }
   ],
   "source": [
    "workers.append(\"Radha\")\n",
    "workers"
   ]
  },
  {
   "cell_type": "code",
   "execution_count": 55,
   "id": "9dfda172",
   "metadata": {},
   "outputs": [
    {
     "data": {
      "text/plain": [
       "['Radha', 'Ramesh', 'Salman']"
      ]
     },
     "execution_count": 55,
     "metadata": {},
     "output_type": "execute_result"
    }
   ],
   "source": [
    "workers.append(\"Ramesh\")\n",
    "workers.append(\"Salman\")\n",
    "workers"
   ]
  },
  {
   "cell_type": "code",
   "execution_count": 56,
   "id": "f9d9a657",
   "metadata": {},
   "outputs": [
    {
     "data": {
      "text/plain": [
       "['Radha', 'Remo', 'Ramesh', 'Salman']"
      ]
     },
     "execution_count": 56,
     "metadata": {},
     "output_type": "execute_result"
    }
   ],
   "source": [
    "workers.insert(1,'Remo')\n",
    "workers"
   ]
  },
  {
   "cell_type": "code",
   "execution_count": 57,
   "id": "e8c406c7",
   "metadata": {},
   "outputs": [
    {
     "data": {
      "text/plain": [
       "[15000, 28000, 19000]"
      ]
     },
     "execution_count": 57,
     "metadata": {},
     "output_type": "execute_result"
    }
   ],
   "source": [
    "emp_salary=[15000,28000,19000]\n",
    "emp_salary"
   ]
  },
  {
   "cell_type": "code",
   "execution_count": 58,
   "id": "1953750c",
   "metadata": {},
   "outputs": [
    {
     "data": {
      "text/plain": [
       "[48000, 15000, 28000, 19000]"
      ]
     },
     "execution_count": 58,
     "metadata": {},
     "output_type": "execute_result"
    }
   ],
   "source": [
    "emp_salary.insert(0,48000)\n",
    "emp_salary"
   ]
  },
  {
   "cell_type": "code",
   "execution_count": 60,
   "id": "3bb885b4",
   "metadata": {},
   "outputs": [
    {
     "data": {
      "text/plain": [
       "4"
      ]
     },
     "execution_count": 60,
     "metadata": {},
     "output_type": "execute_result"
    }
   ],
   "source": [
    "len(emp_salary)"
   ]
  },
  {
   "cell_type": "code",
   "execution_count": 61,
   "id": "320760c6",
   "metadata": {},
   "outputs": [
    {
     "data": {
      "text/plain": [
       "4"
      ]
     },
     "execution_count": 61,
     "metadata": {},
     "output_type": "execute_result"
    }
   ],
   "source": [
    "len(workers)"
   ]
  },
  {
   "cell_type": "code",
   "execution_count": null,
   "id": "42f5fdf8",
   "metadata": {},
   "outputs": [],
   "source": []
  }
 ],
 "metadata": {
  "kernelspec": {
   "display_name": "Python 3 (ipykernel)",
   "language": "python",
   "name": "python3"
  },
  "language_info": {
   "codemirror_mode": {
    "name": "ipython",
    "version": 3
   },
   "file_extension": ".py",
   "mimetype": "text/x-python",
   "name": "python",
   "nbconvert_exporter": "python",
   "pygments_lexer": "ipython3",
   "version": "3.9.7"
  }
 },
 "nbformat": 4,
 "nbformat_minor": 5
}
